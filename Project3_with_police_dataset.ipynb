{
  "nbformat": 4,
  "nbformat_minor": 0,
  "metadata": {
    "colab": {
      "name": "Project3_with_police_dataset.ipynb",
      "provenance": [],
      "collapsed_sections": []
    },
    "kernelspec": {
      "name": "python3",
      "display_name": "Python 3"
    },
    "language_info": {
      "name": "python"
    }
  },
  "cells": [
    {
      "cell_type": "markdown",
      "source": [
        "######## WORKING ON A REAL PROJECT WITH PYTHON POLICE DATASET######"
      ],
      "metadata": {
        "id": "bRMkNYgrVPap"
      }
    },
    {
      "cell_type": "code",
      "execution_count": null,
      "metadata": {
        "id": "RY11wdzwxbdp"
      },
      "outputs": [],
      "source": [
        "import pandas as pd\n",
        "import seaborn as sns\n",
        "import numpy as np\n",
        "import matplotlib.pyplot as plt\n"
      ]
    },
    {
      "cell_type": "code",
      "source": [
        "data = pd.read_csv(\"/content/3. Police Data.csv\")"
      ],
      "metadata": {
        "id": "90RtCwbCNE4l"
      },
      "execution_count": null,
      "outputs": []
    },
    {
      "cell_type": "code",
      "source": [
        "data\n"
      ],
      "metadata": {
        "id": "d3tSJ9ZCNLdm"
      },
      "execution_count": null,
      "outputs": []
    },
    {
      "cell_type": "code",
      "source": [
        "data.dtypes"
      ],
      "metadata": {
        "id": "aJP7SJ4kNN4U"
      },
      "execution_count": null,
      "outputs": []
    },
    {
      "cell_type": "code",
      "source": [
        "data.info()"
      ],
      "metadata": {
        "id": "YuOdSFl4NRq2"
      },
      "execution_count": null,
      "outputs": []
    },
    {
      "cell_type": "code",
      "source": [
        "data.size"
      ],
      "metadata": {
        "id": "saog9G-VNU2Y"
      },
      "execution_count": null,
      "outputs": []
    },
    {
      "cell_type": "code",
      "source": [
        "data.shape"
      ],
      "metadata": {
        "id": "EMcpR8ZDNYR5"
      },
      "execution_count": null,
      "outputs": []
    },
    {
      "cell_type": "code",
      "source": [
        "data.describe()"
      ],
      "metadata": {
        "id": "CAi2NjHJNapF"
      },
      "execution_count": null,
      "outputs": []
    },
    {
      "cell_type": "markdown",
      "source": [
        "WORKING ON A  REAL PROJECT WITH PYTHON\n",
        " POLICE DATASET"
      ],
      "metadata": {
        "id": "SQdQeCTZxeW4"
      }
    },
    {
      "cell_type": "markdown",
      "source": [
        "Q) 1. REMOVE THE COLUMN THAYT ONLY CONTAINS MISSING VALUES"
      ],
      "metadata": {
        "id": "_u4Ojr5JxrKw"
      }
    },
    {
      "cell_type": "code",
      "source": [
        "data.isnull()"
      ],
      "metadata": {
        "id": "Pbtm0EkiL_8E"
      },
      "execution_count": null,
      "outputs": []
    },
    {
      "cell_type": "code",
      "source": [
        "data.isnull().sum()"
      ],
      "metadata": {
        "id": "dkjPV_rUOSfc"
      },
      "execution_count": null,
      "outputs": []
    },
    {
      "cell_type": "code",
      "source": [
        "data.drop(column = \"country_name\", inplace = True)"
      ],
      "metadata": {
        "id": "RrR0l5kJUvkL"
      },
      "execution_count": null,
      "outputs": []
    },
    {
      "cell_type": "code",
      "source": [
        "data"
      ],
      "metadata": {
        "id": "8iKiRlsBO6yz"
      },
      "execution_count": null,
      "outputs": []
    },
    {
      "cell_type": "code",
      "source": [
        "data.isnull().sum()"
      ],
      "metadata": {
        "id": "T2kOc53RPCbP"
      },
      "execution_count": null,
      "outputs": []
    },
    {
      "cell_type": "markdown",
      "source": [
        "Q) 2. FOR SPEEDING, WERE MEN OR WOMEN STOPPED MORE OFTEN ?"
      ],
      "metadata": {
        "id": "VhIaqRnzyCVy"
      }
    },
    {
      "cell_type": "code",
      "source": [
        "data[data.violation == \"Speeding\"].driver_gender.value_counts()"
      ],
      "metadata": {
        "id": "O3H3CvzWQzNV"
      },
      "execution_count": null,
      "outputs": []
    },
    {
      "cell_type": "markdown",
      "source": [
        "Q) 3. DOES GENDER AFFECT WHO GETS SEARCHED DURING A STOP ?\n"
      ],
      "metadata": {
        "id": "eOpn6l9bySRK"
      }
    },
    {
      "cell_type": "code",
      "source": [
        "data.groupby(\"driver_gender\").search_conducted.sum()"
      ],
      "metadata": {
        "id": "WH7jEJyBRgc0"
      },
      "execution_count": null,
      "outputs": []
    },
    {
      "cell_type": "code",
      "source": [
        "data.search_conducted.value_counts()"
      ],
      "metadata": {
        "id": "oXj30J0ySRXZ"
      },
      "execution_count": null,
      "outputs": []
    },
    {
      "cell_type": "markdown",
      "source": [
        "Q) 4. WHAT IS THE MEAN OF STOP DURATION ?\n"
      ],
      "metadata": {
        "id": "l5fq5RpCy0JS"
      }
    },
    {
      "cell_type": "code",
      "source": [
        "data.columns"
      ],
      "metadata": {
        "id": "v238EA2vR8Gk"
      },
      "execution_count": null,
      "outputs": []
    },
    {
      "cell_type": "code",
      "source": [
        "data.stop_duration\n"
      ],
      "metadata": {
        "id": "2LiIX-bTTnbr"
      },
      "execution_count": null,
      "outputs": []
    },
    {
      "cell_type": "code",
      "source": [
        "data.stop_duration.value_counts()"
      ],
      "metadata": {
        "id": "z4ggUkPCSwzC"
      },
      "execution_count": null,
      "outputs": []
    },
    {
      "cell_type": "code",
      "source": [
        "data[\"stop_duration\"] = data[\"stop_duration\"].map({\"0-15 Min\": 7.5,  \"16-30 Min\" : 24,  \"30+ Min\" : 45})"
      ],
      "metadata": {
        "id": "J-4pFI30S3_o"
      },
      "execution_count": null,
      "outputs": []
    },
    {
      "cell_type": "code",
      "source": [
        "data.stop_duration"
      ],
      "metadata": {
        "id": "qt7s9uIYTsWd"
      },
      "execution_count": null,
      "outputs": []
    },
    {
      "cell_type": "code",
      "source": [
        "data[\"stop_duration\"].mean()"
      ],
      "metadata": {
        "id": "_V-GqE9VTujB"
      },
      "execution_count": null,
      "outputs": []
    },
    {
      "cell_type": "markdown",
      "source": [
        "Q) 5. COMPARE THE AGE DISTRIBUTION FOR EACH VIOLATION ?"
      ],
      "metadata": {
        "id": "E7iaLw6qzDU6"
      }
    },
    {
      "cell_type": "code",
      "source": [
        "data.columns"
      ],
      "metadata": {
        "id": "2CaWUZSQUEMJ"
      },
      "execution_count": null,
      "outputs": []
    },
    {
      "cell_type": "code",
      "source": [
        "data.groupby(\"violation\")[\"driver_age\"].describe()"
      ],
      "metadata": {
        "id": "FbI6qzBnUIvW"
      },
      "execution_count": null,
      "outputs": []
    }
  ]
}